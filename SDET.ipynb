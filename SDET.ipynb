{
 "cells": [
  {
   "cell_type": "markdown",
   "metadata": {},
   "source": [
    "# Find the Fake Gold Bar"
   ]
  },
  {
   "cell_type": "markdown",
   "metadata": {},
   "source": [
    "#### Run the following cell if you do not have Selenium installed in your Python environment"
   ]
  },
  {
   "cell_type": "code",
   "execution_count": null,
   "metadata": {},
   "outputs": [],
   "source": [
    "!pip install selenium"
   ]
  },
  {
   "cell_type": "markdown",
   "metadata": {},
   "source": [
    "#### You will need the Selenium Web Driver for your browser. Drivers are specific to your browser. You can find the Driver files in the Selenium documentation here: https://selenium-python.readthedocs.io/installation.html. Please download the appropriate file and place it in the same folder as your Python exe. Run the cell below to see the location of your Python exe."
   ]
  },
  {
   "cell_type": "code",
   "execution_count": null,
   "metadata": {},
   "outputs": [],
   "source": [
    "import os\n",
    "import sys\n",
    "os.path.dirname(sys.executable)"
   ]
  },
  {
   "cell_type": "markdown",
   "metadata": {},
   "source": [
    "#### Required Imports"
   ]
  },
  {
   "cell_type": "code",
   "execution_count": 54,
   "metadata": {},
   "outputs": [],
   "source": [
    "from selenium import webdriver\n",
    "from time import sleep\n",
    "from selenium.webdriver.common.alert import Alert"
   ]
  },
  {
   "cell_type": "markdown",
   "metadata": {},
   "source": [
    "#### Set the URL that we are working work"
   ]
  },
  {
   "cell_type": "code",
   "execution_count": 4,
   "metadata": {},
   "outputs": [],
   "source": [
    "url = 'http://ec2-54-208-152-154.compute-1.amazonaws.com/'"
   ]
  },
  {
   "cell_type": "markdown",
   "metadata": {},
   "source": [
    "#### Open page and get to work"
   ]
  },
  {
   "cell_type": "code",
   "execution_count": 61,
   "metadata": {},
   "outputs": [
    {
     "name": "stdout",
     "output_type": "stream",
     "text": [
      "Bar 5 is fake!\n"
     ]
    }
   ],
   "source": [
    "driver = webdriver.Chrome()\n",
    "\n",
    "# Open the URL\n",
    "driver.get(url)\n",
    "\n",
    "# Assign variables in left box\n",
    "left_0 = driver.find_element_by_id('left_0')\n",
    "left_1 = driver.find_element_by_id('left_1')\n",
    "left_2 = driver.find_element_by_id('left_2')\n",
    "left_3 = driver.find_element_by_id('left_3')\n",
    "left_4 = driver.find_element_by_id('left_4')\n",
    "left_5 = driver.find_element_by_id('left_5')\n",
    "left_6 = driver.find_element_by_id('left_6')\n",
    "left_7 = driver.find_element_by_id('left_7')\n",
    "left_8 = driver.find_element_by_id('left_8')\n",
    "\n",
    "# Create a list of boxes\n",
    "left_boxes = [left_0, left_1, left_2, left_3, left_4, left_5, left_6, left_7, left_8]\n",
    "\n",
    "# Assign variables in right box\n",
    "right_0 = driver.find_element_by_id('right_0')\n",
    "right_1 = driver.find_element_by_id('right_1')\n",
    "right_2 = driver.find_element_by_id('right_2')\n",
    "right_3 = driver.find_element_by_id('right_3')\n",
    "right_4 = driver.find_element_by_id('right_4')\n",
    "right_5 = driver.find_element_by_id('right_5')\n",
    "right_6 = driver.find_element_by_id('right_6')\n",
    "right_7 = driver.find_element_by_id('right_7')\n",
    "right_8 = driver.find_element_by_id('right_8')\n",
    "\n",
    "# Create a list of boxes\n",
    "right_boxes = [right_0, right_1, right_2, right_3, right_4, right_5, right_6, right_7, right_8]\n",
    "\n",
    "# Assign variables of gold bars\n",
    "bar_0 = driver.find_element_by_id('coin_0')\n",
    "bar_1 = driver.find_element_by_id('coin_1')\n",
    "bar_2 = driver.find_element_by_id('coin_2')\n",
    "bar_3 = driver.find_element_by_id('coin_3')\n",
    "bar_4 = driver.find_element_by_id('coin_4')\n",
    "bar_5 = driver.find_element_by_id('coin_5')\n",
    "bar_6 = driver.find_element_by_id('coin_6')\n",
    "bar_7 = driver.find_element_by_id('coin_7')\n",
    "bar_8 = driver.find_element_by_id('coin_8')\n",
    "\n",
    "# Create a list of bars\n",
    "bars = [bar_0, bar_1, bar_2, bar_3, bar_4, bar_5, bar_6, bar_7, bar_8]\n",
    "\n",
    "# Assign the weigh button\n",
    "weigh_btn = driver.find_element_by_id('weigh')\n",
    "\n",
    "# Initialize variables\n",
    "fake = None\n",
    "result = None\n",
    "j = 0\n",
    "\n",
    "\n",
    "for i in range(0, 9, 2):\n",
    "    \n",
    "#     Check if right box is fake\n",
    "    if result == \">\":\n",
    "        fake = bars[i-1]\n",
    "        print(f\"Bar {fake.text} is fake!\")\n",
    "        fake.click()\n",
    "        break\n",
    "        \n",
    "#      Check if left box is fake\n",
    "    elif result == \"<\":\n",
    "        fake = bars[i-2]\n",
    "        print(f\"Bar {fake.text} is fake!\")\n",
    "        fake.click()\n",
    "        break\n",
    "        \n",
    "#      Check if we've hit the end of the list\n",
    "    elif i == 8:\n",
    "        fake = bar_8\n",
    "        print(\"Bar 8 is fake!\")\n",
    "        bar_8.click()\n",
    "        break\n",
    "      \n",
    " #     Send keys to boxes and press weigh\n",
    "    else:\n",
    "        left_boxes[j].send_keys(bars[i].text)\n",
    "        right_boxes[j].send_keys(bars[i+1].text)\n",
    "        weigh_btn.click()\n",
    "        sleep(4)\n",
    "        result = driver.find_element_by_class_name('result').text.split('\\n')[1]\n",
    "        j += 1\n",
    "        \n",
    "sleep(5)\n",
    "Alert(driver).dismiss()\n",
    "driver.close()"
   ]
  }
 ],
 "metadata": {
  "kernelspec": {
   "display_name": "Python 3",
   "language": "python",
   "name": "python3"
  },
  "language_info": {
   "codemirror_mode": {
    "name": "ipython",
    "version": 3
   },
   "file_extension": ".py",
   "mimetype": "text/x-python",
   "name": "python",
   "nbconvert_exporter": "python",
   "pygments_lexer": "ipython3",
   "version": "3.8.5"
  }
 },
 "nbformat": 4,
 "nbformat_minor": 4
}
